{
 "cells": [
  {
   "cell_type": "markdown",
   "metadata": {},
   "source": [
    "# Explanation of the Simple Text Adventure Game\n",
    "[Source code](https://github.com/dcbriccetti/python-lessons/blob/master/simple/advent.py)\n",
    "\n",
    "This program uses these Python features:\n",
    "\n",
    "- data types\n",
    "    - integer\n",
    "    - string\n",
    "      - join\n",
    "    - tuple\n",
    "    - dictionary\n",
    "\n",
    "- control flow\n",
    "    - while\n",
    "    - if\n",
    "- comparison\n",
    "    - in\n",
    "    - ==\n",
    "- modules\n",
    "  - random\n",
    "    - choice\n",
    "    - randint\n",
    "  - sys\n",
    "    - exit\n",
    "\n"
   ]
  },
  {
   "cell_type": "markdown",
   "metadata": {},
   "source": [
    "## Transitions and Places\n",
    "Here is the most important data structure, which defines all the places, and the transitions between them. "
   ]
  },
  {
   "cell_type": "code",
   "execution_count": 2,
   "metadata": {
    "collapsed": false
   },
   "outputs": [],
   "source": [
    "transitions = {\n",
    "    'airstrip': ('forest',),\n",
    "    'forest': ('airstrip', 'cave'),\n",
    "    'cave': ('forest', 'meadow'),\n",
    "    'meadow': ('cave',),\n",
    "}"
   ]
  },
  {
   "cell_type": "markdown",
   "metadata": {},
   "source": [
    "As visualized by pythontutor.com:\n",
    "![Visualization](adventure-transitions.png)"
   ]
  },
  {
   "cell_type": "markdown",
   "metadata": {},
   "source": [
    "To pull just the places out of the transitions dictionary, we can do this:"
   ]
  },
  {
   "cell_type": "code",
   "execution_count": 10,
   "metadata": {
    "collapsed": false
   },
   "outputs": [
    {
     "data": {
      "text/plain": [
       "('airstrip', 'meadow', 'cave', 'forest')"
      ]
     },
     "execution_count": 10,
     "metadata": {},
     "output_type": "execute_result"
    }
   ],
   "source": [
    "places = tuple(transitions.keys())\n",
    "places"
   ]
  },
  {
   "cell_type": "markdown",
   "metadata": {},
   "source": [
    "To choose the starting place randomly:"
   ]
  },
  {
   "cell_type": "code",
   "execution_count": 17,
   "metadata": {
    "collapsed": false
   },
   "outputs": [
    {
     "data": {
      "text/plain": [
       "'forest'"
      ]
     },
     "execution_count": 17,
     "metadata": {},
     "output_type": "execute_result"
    }
   ],
   "source": [
    "from random import choice\n",
    "place = choice(places)\n",
    "place"
   ]
  },
  {
   "cell_type": "markdown",
   "metadata": {},
   "source": [
    "To find the destinations available from a place:"
   ]
  },
  {
   "cell_type": "code",
   "execution_count": 18,
   "metadata": {
    "collapsed": false
   },
   "outputs": [
    {
     "data": {
      "text/plain": [
       "('airstrip', 'cave')"
      ]
     },
     "execution_count": 18,
     "metadata": {},
     "output_type": "execute_result"
    }
   ],
   "source": [
    "destinations = transitions[place]\n",
    "destinations"
   ]
  },
  {
   "cell_type": "code",
   "execution_count": 19,
   "metadata": {
    "collapsed": false
   },
   "outputs": [
    {
     "name": "stdout",
     "output_type": "stream",
     "text": [
      "From here you can go to airstrip, cave\n"
     ]
    }
   ],
   "source": [
    "print('From here you can go to', ', '.join(destinations))"
   ]
  },
  {
   "cell_type": "code",
   "execution_count": null,
   "metadata": {
    "collapsed": true
   },
   "outputs": [],
   "source": []
  }
 ],
 "metadata": {
  "kernelspec": {
   "display_name": "Python 3",
   "language": "python",
   "name": "python3"
  },
  "language_info": {
   "codemirror_mode": {
    "name": "ipython",
    "version": 3
   },
   "file_extension": ".py",
   "mimetype": "text/x-python",
   "name": "python",
   "nbconvert_exporter": "python",
   "pygments_lexer": "ipython3",
   "version": "3.5.1"
  }
 },
 "nbformat": 4,
 "nbformat_minor": 0
}
