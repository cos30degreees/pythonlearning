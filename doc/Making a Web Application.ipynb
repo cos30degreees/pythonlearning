{
 "cells": [
  {
   "cell_type": "markdown",
   "metadata": {},
   "source": [
    "# Making a Web Application\n",
    "What is a web application? A program that you run through your web browser. Python, along with a package called [Flask](http://flask.pocoo.org/), makes this easy.\n",
    "Here is a very simple Flask application:"
   ]
  },
  {
   "cell_type": "code",
   "execution_count": null,
   "metadata": {
    "collapsed": false
   },
   "outputs": [],
   "source": [
    "from flask import Flask\n",
    "app = Flask(__name__)\n",
    "\n",
    "@app.route(\"/\")\n",
    "def index():\n",
    "    return \"Hi from a webapp!\"\n",
    "\n",
    "app.run(host='0.0.0.0', debug=True)  # Replace 0.0.0.0 with 127.0.0.1 to prevent others accessing"
   ]
  },
  {
   "cell_type": "markdown",
   "metadata": {},
   "source": [
    "Run that in PyCharm, then go here in your browser:\n",
    "\n",
    "`http://0.0.0.0:5000/`\n",
    "\n",
    "You should see the greeting.\n",
    "\n",
    "![x](browser-result.png)"
   ]
  },
  {
   "cell_type": "markdown",
   "metadata": {},
   "source": [
    "## Others Can Run Your Webapp\n",
    "Run `ifconfig` (Linux, Mac) or `ipconfig` (Windows) to find out your IP address. It may start with 192.168. Have others on your local area network connect to your webapp using your IP address. For example, if your IP address is 192.168.1.7, have others use this address to connect to the Flask application running on your computer:\n",
    "\n",
    "`http://192.168.1.7:5000/`\n",
    "\n",
    "### Private Networks\n",
    "Typically, if you’re in a home, school, or office you will have an IP address that can’t be reached from elsewhere on the Internet. As explained in this article on [private networking](https://en.wikipedia.org/wiki/Private_network), addresses starting with 192.168 are of this type. You can make a webapp that anyone on the Internet can access, but that’s beyond the scope of this lesson."
   ]
  },
  {
   "cell_type": "markdown",
   "metadata": {},
   "source": [
    "## Networking Background\n",
    "### [IP Addresses](https://en.wikipedia.org/wiki/IP_address)\n",
    "Computers connected to a network typically have an address that is used to connect to them from other computers. It is called an Internet Protocol (IP) address.\n",
    "#### Special IP addresses\n",
    "|Address|Meaning|\n",
    "|-------|-------|\n",
    "|127.0.0.1|Your own computer|\n",
    "|[0.0.0.0](https://en.wikipedia.org/wiki/0.0.0.0)|Your computer, such that others may connect to it|\n",
    "\n",
    "### Ports\n",
    "A networked computer may offer many services. It may deliver web pages, email, or act as a game server. Different services may use different ports. For example, web servers usually use ports 80 and 443. Mail uses 25 and several others. Flask, by default, uses 5000.\n",
    "### Ping\n",
    "Use ping to resolve a domain name and time how long it takes to communicate with a host."
   ]
  },
  {
   "cell_type": "markdown",
   "metadata": {},
   "source": [
    "## Where to Get Game Assets\n",
    "\n",
    "- freesound.org\n",
    "- search.creativecommons.org\n"
   ]
  },
  {
   "cell_type": "markdown",
   "metadata": {},
   "source": [
    "## Practice Problem: Die Roll\n",
    "\n",
    "Create a webapp that simulates rolling a 6-sided die (singular of dice). It should show something like:\n",
    "\n",
    "You rolled a 3"
   ]
  },
  {
   "cell_type": "markdown",
   "metadata": {
    "collapsed": true
   },
   "source": [
    "You will need to turn a number into a string that you will return from the index() function. Use the `str` function."
   ]
  },
  {
   "cell_type": "code",
   "execution_count": 8,
   "metadata": {
    "collapsed": false
   },
   "outputs": [
    {
     "data": {
      "text/plain": [
       "int"
      ]
     },
     "execution_count": 8,
     "metadata": {},
     "output_type": "execute_result"
    }
   ],
   "source": [
    "num = 3\n",
    "type(num)"
   ]
  },
  {
   "cell_type": "code",
   "execution_count": 7,
   "metadata": {
    "collapsed": false
   },
   "outputs": [
    {
     "data": {
      "text/plain": [
       "str"
      ]
     },
     "execution_count": 7,
     "metadata": {},
     "output_type": "execute_result"
    }
   ],
   "source": [
    "type(str(num1))"
   ]
  }
 ],
 "metadata": {
  "kernelspec": {
   "display_name": "Python 3",
   "language": "python",
   "name": "python3"
  },
  "language_info": {
   "codemirror_mode": {
    "name": "ipython",
    "version": 3.0
   },
   "file_extension": ".py",
   "mimetype": "text/x-python",
   "name": "python",
   "nbconvert_exporter": "python",
   "pygments_lexer": "ipython3",
   "version": "3.5.1"
  }
 },
 "nbformat": 4,
 "nbformat_minor": 0
}