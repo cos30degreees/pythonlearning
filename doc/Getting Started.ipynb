{
 "cells": [
  {
   "cell_type": "markdown",
   "metadata": {},
   "source": [
    "# Getting Started with Python\n",
    "## Hello, World\n",
    "It’s traditional when learning a new language to write a program that says hello to the world. It’s a very simple program, that simply produces the output `Hello, world!`."
   ]
  },
  {
   "cell_type": "code",
   "execution_count": 2,
   "metadata": {},
   "outputs": [
    {
     "name": "stdout",
     "output_type": "stream",
     "text": [
      "Hello, world!\n"
     ]
    }
   ],
   "source": [
    "print('Hello, world!')"
   ]
  },
  {
   "cell_type": "markdown",
   "metadata": {},
   "source": [
    "## Getting Input\n",
    "It’s good to be able to get text input from the user (the person running the program). Here’s an example:"
   ]
  },
  {
   "cell_type": "code",
   "execution_count": 3,
   "metadata": {},
   "outputs": [
    {
     "name": "stdout",
     "output_type": "stream",
     "text": [
      "What is your favorite food? muffins\n"
     ]
    }
   ],
   "source": [
    "food = input('What is your favorite food? ')"
   ]
  },
  {
   "cell_type": "markdown",
   "metadata": {},
   "source": [
    "If you are expecting integers (whole numbers), use the `int` function like this:"
   ]
  },
  {
   "cell_type": "code",
   "execution_count": 2,
   "metadata": {},
   "outputs": [
    {
     "name": "stdout",
     "output_type": "stream",
     "text": [
      "How many shields do you want to buy? 6\n"
     ]
    }
   ],
   "source": [
    "num_shields = int(input('How many shields do you want to buy? '))"
   ]
  },
  {
   "cell_type": "markdown",
   "metadata": {},
   "source": [
    "## Doing Different Things Depending on Input Received\n",
    "Maybe the program has a special message for people whose favorite food is muffins, and another message for others:"
   ]
  },
  {
   "cell_type": "code",
   "execution_count": 3,
   "metadata": {},
   "outputs": [
    {
     "name": "stdout",
     "output_type": "stream",
     "text": [
      "Yes, muffins are great!\n"
     ]
    }
   ],
   "source": [
    "if food == 'muffins':\n",
    "    print('Yes, muffins are great!')\n",
    "else:\n",
    "    print('I love muffins.')"
   ]
  },
  {
   "cell_type": "markdown",
   "metadata": {},
   "source": [
    "Here’s a shorter way to write that code:"
   ]
  },
  {
   "cell_type": "code",
   "execution_count": 4,
   "metadata": {},
   "outputs": [
    {
     "name": "stdout",
     "output_type": "stream",
     "text": [
      "Yes, muffins are great!\n"
     ]
    }
   ],
   "source": [
    "print('Yes, muffins are great!' if food == 'muffins' else 'I love muffins.')"
   ]
  },
  {
   "cell_type": "code",
   "execution_count": 3,
   "metadata": {},
   "outputs": [
    {
     "name": "stdout",
     "output_type": "stream",
     "text": [
      "Sorry, you can buy only up to five shields at a time.\n"
     ]
    }
   ],
   "source": [
    "if num_shields > 5:\n",
    "    print('Sorry, you can buy only up to five shields at a time.')"
   ]
  },
  {
   "cell_type": "markdown",
   "metadata": {},
   "source": [
    "### Using a Dictionary to Retrieve a Different Message for Each Known Person"
   ]
  },
  {
   "cell_type": "code",
   "execution_count": 5,
   "metadata": {},
   "outputs": [
    {
     "name": "stdout",
     "output_type": "stream",
     "text": [
      "What is your name? sam\n",
      "Hey, little brother!\n"
     ]
    }
   ],
   "source": [
    "messages = {\n",
    "    'sam':   'Hey, little brother!',\n",
    "    'fred':  'Congrats on the new lawn-mowing job.',\n",
    "    'betty': \"Where's that five dollars you owe me?\",\n",
    "}\n",
    "\n",
    "name = input('What is your name? ')\n",
    "nameLower = name.lower()\n",
    "\n",
    "if nameLower in messages:\n",
    "    print(messages[nameLower])\n",
    "else:\n",
    "    print(\"I don't know any \" + name)"
   ]
  },
  {
   "cell_type": "markdown",
   "metadata": {},
   "source": [
    "### Using a Tuple and `in` to Identify “Happy” Words"
   ]
  },
  {
   "cell_type": "code",
   "execution_count": 5,
   "metadata": {},
   "outputs": [
    {
     "name": "stdout",
     "output_type": "stream",
     "text": [
      "How are you feeling? Super\n",
      "That's great!\n"
     ]
    }
   ],
   "source": [
    "cond = input('How are you feeling? ')\n",
    "happy_words = ('fine', 'good', 'great', 'super')\n",
    "if cond.lower() in happy_words:\n",
    "    print(\"That's great!\")"
   ]
  },
  {
   "cell_type": "markdown",
   "metadata": {},
   "source": [
    "## Simulations\n",
    "It can be fun to simulate things, like flipping a coin many times."
   ]
  },
  {
   "cell_type": "code",
   "execution_count": 4,
   "metadata": {},
   "outputs": [
    {
     "name": "stdout",
     "output_type": "stream",
     "text": [
      "There were 48 heads and 52 tails\n"
     ]
    }
   ],
   "source": [
    "from random import randint\n",
    "\n",
    "numHeads = 0\n",
    "numTails = 0\n",
    "\n",
    "for t in range(100):\n",
    "    if randint(1, 2) == 1:\n",
    "        numHeads += 1\n",
    "    else:\n",
    "        numTails += 1\n",
    "        \n",
    "print('There were %s heads and %s tails' % (numHeads, numTails))"
   ]
  },
  {
   "cell_type": "markdown",
   "metadata": {},
   "source": [
    "## Guessing Games\n",
    "In this program, the player guesses the number the computer chooses randomly."
   ]
  },
  {
   "cell_type": "code",
   "execution_count": 6,
   "metadata": {},
   "outputs": [
    {
     "name": "stdout",
     "output_type": "stream",
     "text": [
      "\n",
      "Welcome to the high-low guessing game.\n",
      "I am thinking of an integer between 1 and 100.\n",
      "\n",
      "What is your guess? 50\n",
      "Too low\n",
      "What is your guess? 75\n",
      "Too high\n",
      "What is your guess? 62\n",
      "Too high\n",
      "What is your guess? 56\n",
      "Too high\n",
      "What is your guess? 53\n",
      "Too low\n",
      "What is your guess? 54\n",
      "You found the number in 6 guesses\n"
     ]
    }
   ],
   "source": [
    "from random import randint\n",
    "print('''\n",
    "Welcome to the high-low guessing game.\n",
    "I am thinking of an integer between 1 and 100.\n",
    "''')\n",
    "\n",
    "guess = 0\n",
    "guesses = 0\n",
    "number = randint(1, 100)\n",
    "\n",
    "while guess != number:\n",
    "    guesses += 1\n",
    "    guess = int(input('What is your guess? '))\n",
    "\n",
    "    if guess > number:\n",
    "        print('Too high')\n",
    "    elif guess < number:\n",
    "        print('Too low')\n",
    "\n",
    "print('You found the number in', guesses, 'guesses')"
   ]
  },
  {
   "cell_type": "markdown",
   "metadata": {},
   "source": [
    "## Math Games\n",
    "Here, the program gives math problems, for quick mental math practice."
   ]
  },
  {
   "cell_type": "code",
   "execution_count": 10,
   "metadata": {},
   "outputs": [
    {
     "name": "stdout",
     "output_type": "stream",
     "text": [
      "Enjoy a math quiz, and respond with nothing to stop.\n",
      "What is 10 * 11 110\n",
      "Right, in 3.20 seconds\n",
      "What is 11 * 8 89\n",
      "Wrong, the answer was 88\n",
      "What is 11 * 5 55\n",
      "Right, in 2.20 seconds\n",
      "What is 6 * 3 \n"
     ]
    }
   ],
   "source": [
    "from random import randint\n",
    "from time import time\n",
    "\n",
    "print('Enjoy a math quiz, and respond with nothing to stop.')\n",
    "\n",
    "while True:\n",
    "    m1 = randint(2, 11)\n",
    "    m2 = randint(2, 11)\n",
    "    product = m1 * m2\n",
    "    start_time = time()\n",
    "    response = input('What is %d * %d ' % (m1, m2))\n",
    "    if not response.strip():\n",
    "        break\n",
    "    answer = int(response)\n",
    "\n",
    "    if answer == product:\n",
    "        print('Right, in %.2f seconds' % (time() - start_time))\n",
    "    else:\n",
    "        print('Wrong, the answer was %d' % product)"
   ]
  },
  {
   "cell_type": "markdown",
   "metadata": {},
   "source": [
    "## A Music Quiz\n",
    "This program asks questions about music."
   ]
  },
  {
   "cell_type": "code",
   "execution_count": 11,
   "metadata": {},
   "outputs": [
    {
     "name": "stdout",
     "output_type": "stream",
     "text": [
      "Welcome to the wonderful quiz on music!\n",
      "How many questions? 2\n",
      "In what family of instruments is the piano? percussion\n",
      "Right!\n",
      "How many beats are there per measure in 2/4 time? 3\n",
      "No, the answer is 2.\n",
      "You got 1 right and the following wrong:\n",
      "How many beats are there per measure in 2/4 time?\n"
     ]
    }
   ],
   "source": [
    "from random import shuffle\n",
    "print('Welcome to the wonderful quiz on music!')\n",
    "\n",
    "qas = [\n",
    "    ('How many beats are there per measure in 2/4 time?', '2'),\n",
    "    ('In what family of instruments is the piano?', 'percussion'),\n",
    "    ('How many strings does a violin have?', '4')\n",
    "]\n",
    "shuffle(qas)\n",
    "numRight = 0\n",
    "wrong = []\n",
    "\n",
    "numQuestions = int(input(\"How many questions? \"))\n",
    "\n",
    "for question, rightAnswer in qas[:numQuestions]:\n",
    "    answer = input(question + ' ')\n",
    "    if answer.lower() == rightAnswer:\n",
    "        print('Right!')\n",
    "        numRight += 1\n",
    "    else:\n",
    "        print('No, the answer is %s.' % rightAnswer)\n",
    "        wrong.append(question)\n",
    "\n",
    "print('You got %d right and the following wrong:' % (numRight))\n",
    "for q in wrong:\n",
    "    print(q)"
   ]
  },
  {
   "cell_type": "markdown",
   "metadata": {},
   "source": [
    "## Text Adventure Games\n",
    "Here is a very simple starting point for an adventure game:"
   ]
  },
  {
   "cell_type": "code",
   "execution_count": 13,
   "metadata": {},
   "outputs": [
    {
     "name": "stdout",
     "output_type": "stream",
     "text": [
      "You are at the meadow\n",
      "From here you can go to cave\n",
      "Where would you like to go? cave\n",
      "You are at the cave\n",
      "From here you can go to forest, meadow\n",
      "Where would you like to go? park\n",
      "You can't go there.\n",
      "You are at the cave\n",
      "From here you can go to forest, meadow\n",
      "Where would you like to go? meadow\n",
      "You discover an amazing treasure!\n",
      "You are at the meadow\n",
      "From here you can go to cave\n",
      "Where would you like to go? quit\n"
     ]
    }
   ],
   "source": [
    "from random import choice, randint\n",
    "\n",
    "transitions = {\n",
    "    'airstrip': ('forest',),\n",
    "    'forest':   ('airstrip', 'cave'),\n",
    "    'cave':     ('forest', 'meadow'),\n",
    "    'meadow':   ('cave',),\n",
    "}\n",
    "places = tuple(transitions.keys())\n",
    "place = choice(places)\n",
    "alive = True\n",
    "\n",
    "while alive:\n",
    "    print('You are at the', place)\n",
    "    destinations = transitions[place]\n",
    "    print('From here you can go to', ', '.join(destinations))\n",
    "    new_place = input('Where would you like to go? ')\n",
    "    if new_place == 'quit':\n",
    "        break\n",
    "    else:\n",
    "        if new_place in destinations:\n",
    "            if randint(1, 10) == 1:\n",
    "                print('You were struck by lightning. Game over.')\n",
    "                alive = False\n",
    "            else:\n",
    "                place = new_place\n",
    "                if place == 'meadow':\n",
    "                    if randint(1, 3) == 1:\n",
    "                        print('You fell in a hole and you are stuck.')\n",
    "                        alive = False\n",
    "                    elif randint(1, 3) == 1:\n",
    "                        print('You discover an amazing treasure!')\n",
    "        else:\n",
    "            print(\"You can't go there.\")"
   ]
  }
 ],
 "metadata": {
  "kernelspec": {
   "display_name": "Python 3",
   "language": "python",
   "name": "python3"
  },
  "language_info": {
   "codemirror_mode": {
    "name": "ipython",
    "version": 3
   },
   "file_extension": ".py",
   "mimetype": "text/x-python",
   "name": "python",
   "nbconvert_exporter": "python",
   "pygments_lexer": "ipython3",
   "version": "3.7.0"
  }
 },
 "nbformat": 4,
 "nbformat_minor": 1
}
