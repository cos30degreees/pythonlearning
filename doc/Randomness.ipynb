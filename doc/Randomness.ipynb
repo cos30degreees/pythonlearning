{
 "cells": [
  {
   "cell_type": "markdown",
   "metadata": {},
   "source": [
    "# Randomness\n",
    "Python has a module called `random`, which has several functions for creating randomness.\n",
    "## Random Integers\n",
    "### Die Throw\n",
    "Let’s simulate throwing a six sided die. The `randint` function will produce random integers for us between two numbers."
   ]
  },
  {
   "cell_type": "code",
   "execution_count": 4,
   "metadata": {
    "collapsed": false
   },
   "outputs": [
    {
     "name": "stdout",
     "output_type": "stream",
     "text": [
      "6\n"
     ]
    }
   ],
   "source": [
    "from random import randint\n",
    "print(randint(1, 6))"
   ]
  },
  {
   "cell_type": "markdown",
   "metadata": {},
   "source": [
    "Here’s one way to simulate a lot of die throws (using a *list comprehension*, covered elsewhere)."
   ]
  },
  {
   "cell_type": "code",
   "execution_count": 7,
   "metadata": {
    "collapsed": false
   },
   "outputs": [
    {
     "name": "stdout",
     "output_type": "stream",
     "text": [
      "[5, 5, 2, 4, 4, 4, 5, 2, 1, 4, 1, 5, 2, 5, 6, 6, 4, 3, 6, 6]\n"
     ]
    }
   ],
   "source": [
    "print([randint(1, 6) for n in range(20)])"
   ]
  },
  {
   "cell_type": "markdown",
   "metadata": {},
   "source": [
    "### Exercise: Two dice\n",
    "Simulate rolling two six-sided dice. \n",
    "\n",
    "Why is the following not the right answer?"
   ]
  },
  {
   "cell_type": "code",
   "execution_count": 2,
   "metadata": {
    "collapsed": false
   },
   "outputs": [
    {
     "name": "stdout",
     "output_type": "stream",
     "text": [
      "11\n"
     ]
    }
   ],
   "source": [
    "from random import randint\n",
    "print(randint(2, 12))  # Wrong"
   ]
  },
  {
   "cell_type": "markdown",
   "metadata": {},
   "source": [
    "**Hint**: 7 is the most common sum when two six-sided dice are rolled."
   ]
  },
  {
   "cell_type": "markdown",
   "metadata": {},
   "source": [
    "## Random Choice from a Sequence\n",
    "The `random` module has a `choice` function, which randomly chooses among the items in a sequence (such as a string, tuple, or list)."
   ]
  },
  {
   "cell_type": "code",
   "execution_count": 3,
   "metadata": {
    "collapsed": false
   },
   "outputs": [
    {
     "name": "stdout",
     "output_type": "stream",
     "text": [
      "I choose Mario\n"
     ]
    }
   ],
   "source": [
    "from random import choice\n",
    "choices = ('Billy', 'Sue', 'Mario')\n",
    "print('I choose ' + choice(choices))"
   ]
  },
  {
   "cell_type": "markdown",
   "metadata": {},
   "source": [
    "## Funny Sentences\n",
    "How is randomness used in this program?"
   ]
  },
  {
   "cell_type": "code",
   "execution_count": 1,
   "metadata": {
    "collapsed": false
   },
   "outputs": [
    {
     "name": "stdout",
     "output_type": "stream",
     "text": [
      "The inoculated baker heartily ate\n",
      "The evil printer painfully dropped\n",
      "The flummoxed salesperson gently ran\n",
      "The bumpy baseball gleefully swam\n",
      "The perturbed fire derisively jiggled\n",
      "The happy hard drive forcefully unlocked\n"
     ]
    }
   ],
   "source": [
    "from random import randint\n",
    "\n",
    "nouns = ['truck', 'baseball', 'fire', 'bicyclist', 'hard drive', 'printer', 'salesperson', 'baker']\n",
    "adjs  = ['red', 'bumpy', 'evil', 'happy', 'enthusiastic', 'flummoxed', 'perturbed', 'inoculated']\n",
    "advs  = ['heartily', 'forcefully', 'gently', 'painfully', 'gleefully', 'derisively']\n",
    "verbs = ['ran', 'exploded', 'dropped', 'swam', 'ate', 'jiggled', 'levitated', 'unlocked']\n",
    "\n",
    "\n",
    "def choose_once(words):\n",
    "    highest_index = len(words) - 1\n",
    "    word_index = randint(0, highest_index)\n",
    "    return words.pop(word_index)\n",
    "\n",
    "while len(nouns) and len(adjs) and len(advs) and len(verbs):\n",
    "    s = 'The %s %s %s %s' % (choose_once(adjs), choose_once(nouns), choose_once(advs), choose_once(verbs))\n",
    "    print(s)"
   ]
  },
  {
   "cell_type": "markdown",
   "metadata": {},
   "source": [
    "## Randomness in an Adventure Game\n",
    "Imagine you have a game where there’s a 1 in 10 chance of an event happening. You could code it like this:"
   ]
  },
  {
   "cell_type": "code",
   "execution_count": 2,
   "metadata": {
    "collapsed": false
   },
   "outputs": [
    {
     "name": "stdout",
     "output_type": "stream",
     "text": [
      "You have entered the dark cave. You hear a large creature breathing nearby.\n",
      "You managed to pass by the creature without disturbing it.\n"
     ]
    }
   ],
   "source": [
    "from random import randint\n",
    "\n",
    "print('You have entered the dark cave. You hear a large creature breathing nearby.')\n",
    "if randint(1, 10) == 1:\n",
    "    print('Oh no! The creature got you!')\n",
    "else:\n",
    "    print('You managed to pass by the creature without disturbing it.')"
   ]
  },
  {
   "cell_type": "code",
   "execution_count": null,
   "metadata": {
    "collapsed": true
   },
   "outputs": [],
   "source": [
    ""
   ]
  }
 ],
 "metadata": {
  "kernelspec": {
   "display_name": "Python 3",
   "language": "python",
   "name": "python3"
  },
  "language_info": {
   "codemirror_mode": {
    "name": "ipython",
    "version": 3.0
   },
   "file_extension": ".py",
   "mimetype": "text/x-python",
   "name": "python",
   "nbconvert_exporter": "python",
   "pygments_lexer": "ipython3",
   "version": "3.5.1"
  }
 },
 "nbformat": 4,
 "nbformat_minor": 0
}